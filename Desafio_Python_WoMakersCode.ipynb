{
  "nbformat": 4,
  "nbformat_minor": 0,
  "metadata": {
    "colab": {
      "provenance": [],
      "include_colab_link": true
    },
    "kernelspec": {
      "name": "python3",
      "display_name": "Python 3"
    },
    "language_info": {
      "name": "python"
    }
  },
  "cells": [
    {
      "cell_type": "markdown",
      "metadata": {
        "id": "view-in-github",
        "colab_type": "text"
      },
      "source": [
        "<a href=\"https://colab.research.google.com/github/nanytahm/google-colab/blob/main/Desafio_Python_WoMakersCode.ipynb\" target=\"_parent\"><img src=\"https://colab.research.google.com/assets/colab-badge.svg\" alt=\"Open In Colab\"/></a>"
      ]
    },
    {
      "cell_type": "markdown",
      "source": [
        "### Bem vindas ao desafio de Python do Bootcamp Data Analytics da WoMakersCode!\n",
        "Neste notebook, voce deve escrever o codigo python em resposta à cada uma das perguntas. Esteja atenta ao enunciado do problema!\n"
      ],
      "metadata": {
        "id": "Z55f1u4p4oHu"
      }
    },
    {
      "cell_type": "markdown",
      "source": [
        "### Desafio 1\n",
        "Escreva uma função em python que lê dois números inteiros (a,b) e gere como resultado as seguintes operações:adição, subtração, multiplicação e divisão. Execute a funçao na celula abaixo, deixando visivel exemplos de resultados.\n"
      ],
      "metadata": {
        "id": "oFGdIzuu5W7b"
      }
    },
    {
      "cell_type": "code",
      "source": [
        "##### ESCREVER A FUNÇAO ABAIXO\n",
        "def operations(a,b):\n",
        "  #### Escrever abaixo\n",
        "  print(f\"adição: {a+b} , subtração: {a-b}, multiplicação: {a*b}, divisão: {a/b}\")"
      ],
      "metadata": {
        "id": "LzCl-VH14t4a"
      },
      "execution_count": 1,
      "outputs": []
    },
    {
      "cell_type": "code",
      "execution_count": 2,
      "metadata": {
        "id": "kMNcvrYZ4krA",
        "colab": {
          "base_uri": "https://localhost:8080/"
        },
        "outputId": "1cf73c53-bf24-488f-ac24-777331c9d136"
      },
      "outputs": [
        {
          "output_type": "stream",
          "name": "stdout",
          "text": [
            "ingrese primer numero: 5\n",
            "ingrese segundo numero: 7\n",
            "adição: 12 , subtração: -2, multiplicação: 35, divisão: 0.7142857142857143\n"
          ]
        }
      ],
      "source": [
        "#### RODAR A FUNÇAO\n",
        "a1=int(input(\"ingrese primer numero: \"))\n",
        "a2=int(input(\"ingrese segundo numero: \"))\n",
        "operations(a1,a2)"
      ]
    },
    {
      "cell_type": "code",
      "source": [
        "a1=int(input(\"ingrese primer numero: \"))\n",
        "a2=int(input(\"ingrese segundo numero: \"))\n",
        "operations(a1,a2)"
      ],
      "metadata": {
        "id": "0_GDIGYY_fyf",
        "colab": {
          "base_uri": "https://localhost:8080/"
        },
        "outputId": "47923775-cc4f-4570-c4e0-486376f73815"
      },
      "execution_count": 3,
      "outputs": [
        {
          "output_type": "stream",
          "name": "stdout",
          "text": [
            "ingrese primer numero: 8\n",
            "ingrese segundo numero: 4\n",
            "adição: 12 , subtração: 4, multiplicação: 32, divisão: 2.0\n"
          ]
        }
      ]
    },
    {
      "cell_type": "code",
      "source": [
        "a1=int(input(\"ingrese primer numero: \"))\n",
        "a2=int(input(\"ingrese segundo numero: \"))\n",
        "operations(a1,a2)"
      ],
      "metadata": {
        "id": "k1dHRihCVlJF",
        "outputId": "e655b666-637f-4e85-9e5f-a773b6c192f9",
        "colab": {
          "base_uri": "https://localhost:8080/"
        }
      },
      "execution_count": 4,
      "outputs": [
        {
          "output_type": "stream",
          "name": "stdout",
          "text": [
            "ingrese primer numero: 6\n",
            "ingrese segundo numero: 6\n",
            "adição: 12 , subtração: 0, multiplicação: 36, divisão: 1.0\n"
          ]
        }
      ]
    },
    {
      "cell_type": "markdown",
      "source": [
        "### Desafio 2\n",
        "Escreva uma função em python que leia como input uma idade e retorne a classificaçao da ideade do individuo da seguinte forma em:\n",
        "\n",
        "*  Criança – 0 a 12 anos\n",
        "*  Adolescente – 13 a 17 anos\n",
        "*  Adulto – acima de 18 anos\n",
        "\n",
        "\n",
        "Se a idade for um número negativo, mostrar a mensagem que a \"idade inválida\"\n",
        "\n"
      ],
      "metadata": {
        "id": "m_tFtRo5581u"
      }
    },
    {
      "cell_type": "code",
      "source": [
        "##### ESCREVER A FUNCAO ABAIXO\n",
        "def classifica_idade(idade):\n",
        "  #### escrever abaixo\n",
        "  if (idade >= 0 and idade <= 12):\n",
        "    print(\"criança\")\n",
        "  elif (idade >= 13 and idade <= 17):\n",
        "    print(\"Adolescente\")\n",
        "  elif idade >= 18:\n",
        "    print(\"Adulto\")\n",
        "  else:\n",
        "    print('idade invalida')"
      ],
      "metadata": {
        "id": "cL-OpHGv6hyc"
      },
      "execution_count": 5,
      "outputs": []
    },
    {
      "cell_type": "code",
      "source": [
        "#### RODAR A FUNCAO\n",
        "id=int(input('idade:'))\n",
        "classifica_idade(id)"
      ],
      "metadata": {
        "id": "49IE2lI66zNO",
        "colab": {
          "base_uri": "https://localhost:8080/"
        },
        "outputId": "5b9beed3-836d-412d-e92c-fc0708bf5a79"
      },
      "execution_count": 6,
      "outputs": [
        {
          "output_type": "stream",
          "name": "stdout",
          "text": [
            "idade:15\n",
            "Adolescente\n"
          ]
        }
      ]
    },
    {
      "cell_type": "markdown",
      "source": [
        "### Desafio 3\n",
        "Crie uma função em python que receba como input um determinado horário em horas e retorne a conversao deste horário para segundos\n"
      ],
      "metadata": {
        "id": "wIGGNN_v60s4"
      }
    },
    {
      "cell_type": "code",
      "source": [
        "##### ESCREVER A FUNCAO ABAIXO\n",
        "def time_converter(t):\n",
        "  ##### escrever abaixo\n",
        "  print(f\"{t} horas tiene {t*60*60} segundos\")"
      ],
      "metadata": {
        "id": "JOF_tcax7ABd"
      },
      "execution_count": 7,
      "outputs": []
    },
    {
      "cell_type": "code",
      "source": [
        "##### RODAR A FUNCAO\n",
        "horario=int(input('ingrese hora: '))\n",
        "time_converter(horario)"
      ],
      "metadata": {
        "id": "AJf1IqiC7Mq_",
        "colab": {
          "base_uri": "https://localhost:8080/"
        },
        "outputId": "79a31e81-8bcd-4b31-8ef6-21df9d92aa23"
      },
      "execution_count": 8,
      "outputs": [
        {
          "output_type": "stream",
          "name": "stdout",
          "text": [
            "ingrese hora: 5\n",
            "5 horas tiene 18000 segundos\n"
          ]
        }
      ]
    },
    {
      "cell_type": "markdown",
      "source": [
        "### Desafio 4\n",
        "Crie uma função em python que calcule a média artimética de uma aluna que cursou a disciplina de Programação I. A funcao deve receber como input as notas M1, M2 e M3 e calcular a média. Após a média calculada, a funcao deve anunciar se a aluna foi aprovado, reprovado ou pegou exame de acordo conm a seguinte classificacao:\n",
        "\n",
        "* Se a média estiver entre 0.0 e 4.0, o aluno está reprovado\n",
        "* Se a média estiver entre 4.1 e 6.0, o aluno pegou exame\n",
        "* Se a média for maior do que 6.0, o aluno está aprovado\n",
        "* Se o aluno pegou exame, deve ser lida a nota do exame. Se a nota do exame for maior do que 6.0, está aprovado, senão; está reprovado\n"
      ],
      "metadata": {
        "id": "RCrTUh1E7OWn"
      }
    },
    {
      "cell_type": "code",
      "source": [
        "##### ESCREVER A FUNCAO ABAIXO\n",
        "def calcula_media(M1,M2,M3):\n",
        "  ###### escrever abaixo\n",
        "  med=(M1+M2+M3)/3\n",
        "  if med<=4:\n",
        "    print(\"aluno está reprovado\")\n",
        "  elif med>4 and med<=6:\n",
        "    print(f\"aluno pegou exame, ele tem {med}\")\n",
        "  elif med>6:\n",
        "    print(\"aluno está aprovado\")\n"
      ],
      "metadata": {
        "id": "VzNdyWZE70oc"
      },
      "execution_count": 9,
      "outputs": []
    },
    {
      "cell_type": "code",
      "source": [
        "##### RODAR A FUNCAO\n",
        "n1=float(input(\"nota 1: \"))\n",
        "n2=float(input(\"nota 2: \"))\n",
        "n3=float(input(\"nota 3: \"))\n",
        "calcula_media(n1,n2,n3)"
      ],
      "metadata": {
        "id": "cY7vMECS77QY",
        "colab": {
          "base_uri": "https://localhost:8080/"
        },
        "outputId": "3aeb6899-c4f1-4955-ff33-de39e2331a03"
      },
      "execution_count": 10,
      "outputs": [
        {
          "output_type": "stream",
          "name": "stdout",
          "text": [
            "nota 1: 8\n",
            "nota 2: 2\n",
            "nota 3: 4\n",
            "aluno pegou exame, ele tem 4.666666666666667\n"
          ]
        }
      ]
    },
    {
      "cell_type": "markdown",
      "source": [
        "### Desafio 5\n",
        "Dado a seguinte lista: \n",
        "* equipes_bootcamp_dados = [BerthaLutz, GraceHopper, JaquelineGoes, SarahGilbert]\n",
        "\n",
        "1. Crie uma função em python que conte quantas vezes aparece a letra a em cada elemento da lista. Seu resultado deve ser uma lista . exemplo: [4,0,1,2]\n",
        "\n",
        "2. Leia a lista de alunas: ['Maria', 'Ana','Camila','Mariana','Elaine','Patricia','Marina','Erica','Larissa','Luiza', 'Nicole','Bruna']\n",
        "\n",
        "3. Crie uma função que atribua cada uma das alunas em uma das equipes da lista equipes_bootcamp_dados, de modo que cada equipe pode ter 3 alunas no máximo.\n",
        "\n",
        " Para isso ordene em alfabética. O seu resultado deve ser um dicionário python. exemplo {'BerthaLutz': ['Ana', 'Bruna', 'Camila'], 'GraceHopper': ['Elaine','Erika','Luiza'],... }\n"
      ],
      "metadata": {
        "id": "eI9AkpYT788b"
      }
    },
    {
      "cell_type": "code",
      "source": [
        "\n",
        "##### ESCREVER A FUNCAO DA ETAPA 1\n",
        "def contador(equipes_bootcamp_dados):\n",
        "  #### escrever abaixo\n",
        "  cont=[]\n",
        "\n",
        "  for index in equipes_bootcamp_dados:\n",
        "      cont.append(index.count(\"a\"))\n",
        "\n",
        "  return cont\n"
      ],
      "metadata": {
        "id": "Zk6U7KnL8WBd"
      },
      "execution_count": 11,
      "outputs": []
    },
    {
      "cell_type": "code",
      "source": [
        "###### RODAR A ETAPA 1\n",
        "equipes_bootcamp_dados = ['BerthaLutz', 'GraceHopper', 'JaquelineGoes', 'SarahGilbert']\n",
        "contador(equipes_bootcamp_dados)"
      ],
      "metadata": {
        "id": "snTgwxt_8hcj",
        "colab": {
          "base_uri": "https://localhost:8080/"
        },
        "outputId": "19d8012b-9825-49ef-b1d4-a1df8876c8bb"
      },
      "execution_count": 12,
      "outputs": [
        {
          "output_type": "execute_result",
          "data": {
            "text/plain": [
              "[1, 1, 1, 2]"
            ]
          },
          "metadata": {},
          "execution_count": 12
        }
      ]
    },
    {
      "cell_type": "code",
      "source": [
        "##### LER A ETAPA 2\n",
        "lista_alunas = ['Maria', 'Ana', 'Camila', 'Mariana', 'Elaine', 'Patricia', 'Marina', 'Erica', 'Larissa', 'Luiza', 'Nicole', 'Bruna']\n"
      ],
      "metadata": {
        "id": "xgkMVykO8jB-"
      },
      "execution_count": 13,
      "outputs": []
    },
    {
      "cell_type": "code",
      "source": [
        "\n",
        "##### ESCREVER A FUNCAO DA ETAPA 3\n",
        "def ordenacao(lista_alunas, equipes_bootcamp_dados):\n",
        "  ### escrever abaixo\n",
        "    listaA = lista_alunas.sort()\n",
        "\n",
        "    nl=len(lista_alunas)\n",
        "    n = 3\n",
        "    nuevalista=[lista_alunas[i:i + n] for i in range(0, nl, n)]\n",
        "\n",
        "    dic = dict(zip(equipes_bootcamp_dados,nuevalista))\n",
        "    print(dic)"
      ],
      "metadata": {
        "id": "_ySYFooB8jFF"
      },
      "execution_count": 14,
      "outputs": []
    },
    {
      "cell_type": "code",
      "source": [
        "##### RODAR A FUNCAO DA ETAPA 3\n",
        "ordenacao(lista_alunas, equipes_bootcamp_dados)"
      ],
      "metadata": {
        "id": "8qZnUInj9Uvr",
        "colab": {
          "base_uri": "https://localhost:8080/"
        },
        "outputId": "8c976ad2-26a2-439b-c6a5-184e6b55147c"
      },
      "execution_count": 15,
      "outputs": [
        {
          "output_type": "stream",
          "name": "stdout",
          "text": [
            "{'BerthaLutz': ['Ana', 'Bruna', 'Camila'], 'GraceHopper': ['Elaine', 'Erica', 'Larissa'], 'JaquelineGoes': ['Luiza', 'Maria', 'Mariana'], 'SarahGilbert': ['Marina', 'Nicole', 'Patricia']}\n"
          ]
        }
      ]
    },
    {
      "cell_type": "markdown",
      "source": [
        "### Desafio 6\n",
        "Escreva uma função em python que leia uma temperatura em graus Celsius e retorne a conversao dela em graus Fahrenheit. \n",
        "\n",
        "A fórmula de conversão é F = (9 * C + 160) / 5, na qual F é a temperatura em Fahrenheit e C é a temperatura em graus Celsius\n",
        "\n",
        "\n"
      ],
      "metadata": {
        "id": "AXoFPjyx82gG"
      }
    },
    {
      "cell_type": "code",
      "source": [
        "##### ESCREVER A FUNCAO\n",
        "def conversor_temperatura(temperatura):\n",
        "  ### escrever abaixo\n",
        "  F=(9*temperatura+160)/5\n",
        "  print(f\"{temperatura} graus Celsius é {F} em graus Fahrenheit\")"
      ],
      "metadata": {
        "id": "OsCU2Msu9D9o"
      },
      "execution_count": 16,
      "outputs": []
    },
    {
      "cell_type": "code",
      "source": [
        "##### RODAR A FUNCAO\n",
        "conversor_temperatura(12)"
      ],
      "metadata": {
        "id": "UBCdsBgi9Xa2",
        "colab": {
          "base_uri": "https://localhost:8080/"
        },
        "outputId": "e7ff6aee-3ce0-4338-c705-2441bb05804d"
      },
      "execution_count": 17,
      "outputs": [
        {
          "output_type": "stream",
          "name": "stdout",
          "text": [
            "12 graus Celsius é 53.6 em graus Fahrenheit\n"
          ]
        }
      ]
    }
  ]
}